{
 "cells": [
  {
   "cell_type": "code",
   "execution_count": null,
   "metadata": {
    "execution": {
     "iopub.execute_input": "2023-11-21T22:27:48.284237Z",
     "iopub.status.busy": "2023-11-21T22:27:48.283109Z",
     "iopub.status.idle": "2023-11-21T22:27:48.287303Z",
     "shell.execute_reply": "2023-11-21T22:27:48.288423Z"
    }
   },
   "outputs": [
    {
     "name": "stdout",
     "output_type": "stream",
     "text": [
      "Testing2\n"
     ]
    }
   ],
   "source": [
    "print(\"Testing2\")"
   ]
  },
  {
   "cell_type": "code",
   "execution_count": 2,
   "metadata": {
    "execution": {
     "iopub.execute_input": "2023-11-21T22:27:48.295105Z",
     "iopub.status.busy": "2023-11-21T22:27:48.293992Z",
     "iopub.status.idle": "2023-11-21T22:27:48.297288Z",
     "shell.execute_reply": "2023-11-21T22:27:48.298194Z"
    }
   },
   "outputs": [],
   "source": [
    "import os"
   ]
  },
  {
   "cell_type": "code",
   "execution_count": 3,
   "metadata": {
    "execution": {
     "iopub.execute_input": "2023-11-21T22:27:48.305053Z",
     "iopub.status.busy": "2023-11-21T22:27:48.303928Z",
     "iopub.status.idle": "2023-11-21T22:27:48.307542Z",
     "shell.execute_reply": "2023-11-21T22:27:48.308649Z"
    }
   },
   "outputs": [
    {
     "name": "stdout",
     "output_type": "stream",
     "text": [
      "foo\n"
     ]
    }
   ],
   "source": [
    "out = os.path.basename(\"/baz/foo\")\n",
    "print(out)"
   ]
  },
  {
   "cell_type": "markdown",
   "metadata": {},
   "source": [
    "hello\n"
   ]
  },
  {
   "cell_type": "code",
   "execution_count": null,
   "metadata": {},
   "outputs": [],
   "source": [
    "def foo(num):\n",
    "    return num + 1"
   ]
  },
  {
   "cell_type": "code",
   "execution_count": null,
   "metadata": {},
   "outputs": [],
   "source": [
    "foo(2)"
   ]
  }
 ],
 "metadata": {
  "language_info": {
   "codemirror_mode": {
    "name": "ipython",
    "version": 3
   },
   "file_extension": ".py",
   "mimetype": "text/x-python",
   "name": "python",
   "nbconvert_exporter": "python",
   "pygments_lexer": "ipython3",
   "version": "3.8.6"
  }
 },
 "nbformat": 4,
 "nbformat_minor": 2
}
