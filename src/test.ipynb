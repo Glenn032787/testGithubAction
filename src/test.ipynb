{
 "cells": [
  {
   "cell_type": "code",
   "execution_count": null,
   "metadata": {
    "execution": {
     "iopub.execute_input": "2023-11-21T23:00:32.838953Z",
     "iopub.status.busy": "2023-11-21T23:00:32.837844Z",
     "iopub.status.idle": "2023-11-21T23:00:32.842202Z",
     "shell.execute_reply": "2023-11-21T23:00:32.843121Z"
    }
   },
   "outputs": [],
   "source": [
    "print(\"Testing2\")"
   ]
  },
  {
   "cell_type": "code",
   "execution_count": null,
   "metadata": {
    "execution": {
     "iopub.execute_input": "2023-11-21T23:00:32.849705Z",
     "iopub.status.busy": "2023-11-21T23:00:32.848590Z",
     "iopub.status.idle": "2023-11-21T23:00:32.851681Z",
     "shell.execute_reply": "2023-11-21T23:00:32.852579Z"
    }
   },
   "outputs": [],
   "source": [
    "import os"
   ]
  },
  {
   "cell_type": "code",
   "execution_count": null,
   "metadata": {
    "execution": {
     "iopub.execute_input": "2023-11-21T23:00:32.859291Z",
     "iopub.status.busy": "2023-11-21T23:00:32.858173Z",
     "iopub.status.idle": "2023-11-21T23:00:32.863011Z",
     "shell.execute_reply": "2023-11-21T23:00:32.861872Z"
    }
   },
   "outputs": [],
   "source": [
    "out = os.path.basename(\"/baz/foo\")\n",
    "print(out)"
   ]
  },
  {
   "cell_type": "markdown",
   "metadata": {},
   "source": [
    "hello\n"
   ]
  },
  {
   "cell_type": "code",
   "execution_count": null,
   "metadata": {
    "execution": {
     "iopub.execute_input": "2023-11-21T23:00:32.869797Z",
     "iopub.status.busy": "2023-11-21T23:00:32.868691Z",
     "iopub.status.idle": "2023-11-21T23:00:32.871870Z",
     "shell.execute_reply": "2023-11-21T23:00:32.872772Z"
    }
   },
   "outputs": [],
   "source": [
    "def foo(num):\n",
    "    return num + 1"
   ]
  },
  {
   "cell_type": "code",
   "execution_count": null,
   "metadata": {
    "execution": {
     "iopub.execute_input": "2023-11-21T23:00:32.891503Z",
     "iopub.status.busy": "2023-11-21T23:00:32.890389Z",
     "iopub.status.idle": "2023-11-21T23:00:32.896526Z",
     "shell.execute_reply": "2023-11-21T23:00:32.895358Z"
    }
   },
   "outputs": [],
   "source": [
    "foo(2)"
   ]
  }
 ],
 "metadata": {
  "language_info": {
   "codemirror_mode": {
    "name": "ipython",
    "version": 3
   },
   "file_extension": ".py",
   "mimetype": "text/x-python",
   "name": "python",
   "nbconvert_exporter": "python",
   "pygments_lexer": "ipython3",
   "version": "3.8.6"
  }
 },
 "nbformat": 4,
 "nbformat_minor": 2
}
