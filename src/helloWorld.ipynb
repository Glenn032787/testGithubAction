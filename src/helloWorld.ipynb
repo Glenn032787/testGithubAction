{
 "cells": [
  {
   "cell_type": "code",
   "execution_count": null,
   "metadata": {
    "execution": {
     "iopub.execute_input": "2023-11-21T22:27:46.836971Z",
     "iopub.status.busy": "2023-11-21T22:27:46.835668Z",
     "iopub.status.idle": "2023-11-21T22:27:46.842512Z",
     "shell.execute_reply": "2023-11-21T22:27:46.843670Z"
    }
   },
   "outputs": [],
   "source": [
    "print(\"hello-world\")"
   ]
  },
  {
   "cell_type": "markdown",
   "metadata": {},
   "source": [
    "# Markdown"
   ]
  },
  {
   "cell_type": "code",
   "execution_count": null,
   "metadata": {
    "execution": {
     "iopub.execute_input": "2023-11-21T22:27:46.863490Z",
     "iopub.status.busy": "2023-11-21T22:27:46.862348Z",
     "iopub.status.idle": "2023-11-21T22:27:46.867276Z",
     "shell.execute_reply": "2023-11-21T22:27:46.868203Z"
    }
   },
   "outputs": [],
   "source": [
    "1+3"
   ]
  },
  {
   "cell_type": "markdown",
   "metadata": {},
   "source": [
    "## Test1"
   ]
  },
  {
   "cell_type": "code",
   "execution_count": null,
   "metadata": {
    "execution": {
     "iopub.execute_input": "2023-11-21T22:27:46.875097Z",
     "iopub.status.busy": "2023-11-21T22:27:46.873919Z",
     "iopub.status.idle": "2023-11-21T22:27:46.877793Z",
     "shell.execute_reply": "2023-11-21T22:27:46.878709Z"
    }
   },
   "outputs": [],
   "source": [
    "print(\"test1\")"
   ]
  }
 ],
 "metadata": {
  "language_info": {
   "codemirror_mode": {
    "name": "ipython",
    "version": 3
   },
   "file_extension": ".py",
   "mimetype": "text/x-python",
   "name": "python",
   "nbconvert_exporter": "python",
   "pygments_lexer": "ipython3",
   "version": "3.8.6"
  }
 },
 "nbformat": 4,
 "nbformat_minor": 2
}
