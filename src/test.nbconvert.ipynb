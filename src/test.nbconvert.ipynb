{
 "cells": [
  {
   "cell_type": "code",
   "execution_count": 1,
   "metadata": {
    "execution": {
     "iopub.execute_input": "2023-11-27T23:15:07.064482Z",
     "iopub.status.busy": "2023-11-27T23:15:07.064317Z",
     "iopub.status.idle": "2023-11-27T23:15:07.070127Z",
     "shell.execute_reply": "2023-11-27T23:15:07.069559Z"
    }
   },
   "outputs": [
    {
     "name": "stdout",
     "output_type": "stream",
     "text": [
      "Testing2\n"
     ]
    }
   ],
   "source": [
    "print(\"Testing2\")"
   ]
  },
  {
   "cell_type": "code",
   "execution_count": 2,
   "metadata": {
    "execution": {
     "iopub.execute_input": "2023-11-27T23:15:07.099554Z",
     "iopub.status.busy": "2023-11-27T23:15:07.099192Z",
     "iopub.status.idle": "2023-11-27T23:15:07.101928Z",
     "shell.execute_reply": "2023-11-27T23:15:07.101432Z"
    }
   },
   "outputs": [],
   "source": [
    "import os"
   ]
  },
  {
   "cell_type": "code",
   "execution_count": 3,
   "metadata": {
    "execution": {
     "iopub.execute_input": "2023-11-27T23:15:07.103836Z",
     "iopub.status.busy": "2023-11-27T23:15:07.103675Z",
     "iopub.status.idle": "2023-11-27T23:15:07.106493Z",
     "shell.execute_reply": "2023-11-27T23:15:07.105932Z"
    }
   },
   "outputs": [
    {
     "name": "stdout",
     "output_type": "stream",
     "text": [
      "foo\n"
     ]
    }
   ],
   "source": [
    "out = os.path.basename(\"/baz/foo\")\n",
    "print(out)"
   ]
  },
  {
   "cell_type": "markdown",
   "metadata": {},
   "source": [
    "hello\n"
   ]
  },
  {
   "cell_type": "code",
   "execution_count": 4,
   "metadata": {
    "execution": {
     "iopub.execute_input": "2023-11-27T23:15:07.108665Z",
     "iopub.status.busy": "2023-11-27T23:15:07.108264Z",
     "iopub.status.idle": "2023-11-27T23:15:07.110919Z",
     "shell.execute_reply": "2023-11-27T23:15:07.110423Z"
    }
   },
   "outputs": [],
   "source": [
    "def foo(num):\n",
    "    return num + 1"
   ]
  },
  {
   "cell_type": "code",
   "execution_count": 5,
   "metadata": {
    "execution": {
     "iopub.execute_input": "2023-11-27T23:15:07.113036Z",
     "iopub.status.busy": "2023-11-27T23:15:07.112628Z",
     "iopub.status.idle": "2023-11-27T23:15:07.118360Z",
     "shell.execute_reply": "2023-11-27T23:15:07.117899Z"
    }
   },
   "outputs": [
    {
     "data": {
      "text/plain": [
       "3"
      ]
     },
     "execution_count": 5,
     "metadata": {},
     "output_type": "execute_result"
    }
   ],
   "source": [
    "foo(2)"
   ]
  }
 ],
 "metadata": {
  "language_info": {
   "codemirror_mode": {
    "name": "ipython",
    "version": 3
   },
   "file_extension": ".py",
   "mimetype": "text/x-python",
   "name": "python",
   "nbconvert_exporter": "python",
   "pygments_lexer": "ipython3",
   "version": "3.11.6"
  }
 },
 "nbformat": 4,
 "nbformat_minor": 2
}
